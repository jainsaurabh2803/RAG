{
 "cells": [
  {
   "cell_type": "code",
   "execution_count": 1,
   "id": "cf2cd6cf",
   "metadata": {},
   "outputs": [
    {
     "name": "stderr",
     "output_type": "stream",
     "text": [
      "/Users/saurabhjain/Desktop/RAG/.venv/lib/python3.13/site-packages/tqdm/auto.py:21: TqdmWarning: IProgress not found. Please update jupyter and ipywidgets. See https://ipywidgets.readthedocs.io/en/stable/user_install.html\n",
      "  from .autonotebook import tqdm as notebook_tqdm\n",
      "[nltk_data] Downloading package punkt to\n",
      "[nltk_data]     /Users/saurabhjain/nltk_data...\n",
      "[nltk_data]   Unzipping tokenizers/punkt.zip.\n"
     ]
    },
    {
     "ename": "NameError",
     "evalue": "name 'documents' is not defined",
     "output_type": "error",
     "traceback": [
      "\u001b[31m---------------------------------------------------------------------------\u001b[39m",
      "\u001b[31mNameError\u001b[39m                                 Traceback (most recent call last)",
      "\u001b[36mCell\u001b[39m\u001b[36m \u001b[39m\u001b[32mIn[1]\u001b[39m\u001b[32m, line 21\u001b[39m\n\u001b[32m     18\u001b[39m \u001b[38;5;28;01mdef\u001b[39;00m\u001b[38;5;250m \u001b[39m\u001b[34mtokenize\u001b[39m(text):\n\u001b[32m     19\u001b[39m     \u001b[38;5;28;01mreturn\u001b[39;00m nltk.word_tokenize(text.lower())\n\u001b[32m---> \u001b[39m\u001b[32m21\u001b[39m tokenized_docs = [tokenize(doc) \u001b[38;5;28;01mfor\u001b[39;00m doc \u001b[38;5;129;01min\u001b[39;00m \u001b[43mdocuments\u001b[49m]\n\u001b[32m     23\u001b[39m \u001b[38;5;66;03m# BM25 Index\u001b[39;00m\n\u001b[32m     24\u001b[39m bm25 = BM25Okapi(tokenized_docs)\n",
      "\u001b[31mNameError\u001b[39m: name 'documents' is not defined"
     ]
    }
   ],
   "source": [
    "# =========================\n",
    "# Assuming you already have:\n",
    "# documents -> list of text chunks\n",
    "# embeddings -> numpy array of shape (num_docs, embedding_dim)\n",
    "# =========================\n",
    "\n",
    "import faiss\n",
    "from rank_bm25 import BM25Okapi\n",
    "import nltk\n",
    "import numpy as np\n",
    "from sentence_transformers import SentenceTransformer\n",
    "\n",
    "nltk.download('punkt')\n",
    "\n",
    "# =========================\n",
    "# Step 1: Tokenize documents for BM25\n",
    "# =========================\n",
    "def tokenize(text):\n",
    "    return nltk.word_tokenize(text.lower())\n",
    "\n",
    "tokenized_docs = [tokenize(doc) for doc in documents]\n",
    "\n",
    "# BM25 Index\n",
    "bm25 = BM25Okapi(tokenized_docs)\n",
    "\n",
    "# =========================\n",
    "# Step 2: FAISS Dense Index\n",
    "# =========================\n",
    "# Normalize embeddings for cosine similarity\n",
    "embeddings_norm = embeddings / np.linalg.norm(embeddings, axis=1, keepdims=True)\n",
    "embedding_dim = embeddings_norm.shape[1]\n",
    "faiss_index = faiss.IndexFlatIP(embedding_dim)\n",
    "faiss_index.add(embeddings_norm)\n",
    "\n",
    "# =========================\n",
    "# Step 3: Hybrid Search Function\n",
    "# =========================\n",
    "def hybrid_search(query, top_k=5, alpha=0.5):\n",
    "    # Tokenize query\n",
    "    tokenized_query = tokenize(query)\n",
    "    \n",
    "    # Sparse BM25 scores\n",
    "    bm25_scores = bm25.get_scores(tokenized_query)\n",
    "    \n",
    "    # Dense vector search\n",
    "    model = SentenceTransformer('all-MiniLM-L6-v2')\n",
    "    query_emb = model.encode([query], convert_to_numpy=True)\n",
    "    query_emb = query_emb / np.linalg.norm(query_emb, axis=1, keepdims=True)\n",
    "    D, I = faiss_index.search(query_emb, top_k)\n",
    "    dense_scores = D[0]\n",
    "    \n",
    "    # Normalize BM25 scores\n",
    "    bm25_scores_norm = (bm25_scores - bm25_scores.min()) / (bm25_scores.max() - bm25_scores.min() + 1e-8)\n",
    "    \n",
    "    # Compute final score combining sparse and dense\n",
    "    final_scores = []\n",
    "    for idx in range(len(documents)):\n",
    "        dense_score = dense_scores[idx] if idx < len(dense_scores) else 0\n",
    "        score = alpha * bm25_scores_norm[idx] + (1 - alpha) * dense_score\n",
    "        final_scores.append(score)\n",
    "    \n",
    "    # Rank documents\n",
    "    ranked_indices = np.argsort(final_scores)[::-1][:top_k]\n",
    "    results = [(documents[i], final_scores[i]) for i in ranked_indices]\n",
    "    return results\n",
    "\n",
    "# =========================\n",
    "# Step 4: Test Hybrid Search\n",
    "# =========================\n",
    "query = \"semantic search using embeddings\"\n",
    "results = hybrid_search(query, top_k=3, alpha=0.5)\n",
    "\n",
    "print(\"Query:\", query)\n",
    "print(\"\\nTop Results:\")\n",
    "for doc, score in results:\n",
    "    print(f\"{score:.4f} -> {doc}\")\n"
   ]
  }
 ],
 "metadata": {
  "kernelspec": {
   "display_name": ".venv",
   "language": "python",
   "name": "python3"
  },
  "language_info": {
   "codemirror_mode": {
    "name": "ipython",
    "version": 3
   },
   "file_extension": ".py",
   "mimetype": "text/x-python",
   "name": "python",
   "nbconvert_exporter": "python",
   "pygments_lexer": "ipython3",
   "version": "3.13.7"
  }
 },
 "nbformat": 4,
 "nbformat_minor": 5
}
