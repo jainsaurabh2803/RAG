{
 "cells": [
  {
   "cell_type": "code",
   "execution_count": 2,
   "id": "415fcd3f",
   "metadata": {},
   "outputs": [
    {
     "name": "stderr",
     "output_type": "stream",
     "text": [
      "Could get FontBBox from font descriptor because None cannot be parsed as 4 floats\n",
      "Could get FontBBox from font descriptor because None cannot be parsed as 4 floats\n",
      "Could get FontBBox from font descriptor because None cannot be parsed as 4 floats\n",
      "Could get FontBBox from font descriptor because None cannot be parsed as 4 floats\n",
      "Could get FontBBox from font descriptor because None cannot be parsed as 4 floats\n",
      "Could get FontBBox from font descriptor because None cannot be parsed as 4 floats\n",
      "Could get FontBBox from font descriptor because None cannot be parsed as 4 floats\n",
      "Could get FontBBox from font descriptor because None cannot be parsed as 4 floats\n",
      "Could get FontBBox from font descriptor because None cannot be parsed as 4 floats\n"
     ]
    },
    {
     "name": "stdout",
     "output_type": "stream",
     "text": [
      "\n",
      "📂 Processing Pure Storage, Inc. - Pure Storage Announces Fiscal Fourth Quarter and Full Year 2024 Financial Results.pdf ...\n"
     ]
    },
    {
     "name": "stderr",
     "output_type": "stream",
     "text": [
      "Could get FontBBox from font descriptor because None cannot be parsed as 4 floats\n",
      "Could get FontBBox from font descriptor because None cannot be parsed as 4 floats\n",
      "Could get FontBBox from font descriptor because None cannot be parsed as 4 floats\n",
      "Could get FontBBox from font descriptor because None cannot be parsed as 4 floats\n",
      "Could get FontBBox from font descriptor because None cannot be parsed as 4 floats\n",
      "Could get FontBBox from font descriptor because None cannot be parsed as 4 floats\n",
      "Could get FontBBox from font descriptor because None cannot be parsed as 4 floats\n",
      "Could get FontBBox from font descriptor because None cannot be parsed as 4 floats\n",
      "Could get FontBBox from font descriptor because None cannot be parsed as 4 floats\n",
      "Could get FontBBox from font descriptor because None cannot be parsed as 4 floats\n",
      "Could get FontBBox from font descriptor because None cannot be parsed as 4 floats\n",
      "Could get FontBBox from font descriptor because None cannot be parsed as 4 floats\n",
      "Could get FontBBox from font descriptor because None cannot be parsed as 4 floats\n",
      "Could get FontBBox from font descriptor because None cannot be parsed as 4 floats\n",
      "Could get FontBBox from font descriptor because None cannot be parsed as 4 floats\n",
      "Could get FontBBox from font descriptor because None cannot be parsed as 4 floats\n"
     ]
    },
    {
     "name": "stdout",
     "output_type": "stream",
     "text": [
      "✅ Saved text: output_extracted/Pure Storage, Inc. - Pure Storage Announces Fiscal Fourth Quarter and Full Year 2024 Financial Results.txt\n",
      "✅ Saved table: output_extracted/Pure Storage, Inc. - Pure Storage Announces Fiscal Fourth Quarter and Full Year 2024 Financial Results_page1_table0.md\n",
      "✅ Saved table: output_extracted/Pure Storage, Inc. - Pure Storage Announces Fiscal Fourth Quarter and Full Year 2024 Financial Results_page2_table0.md\n",
      "✅ Saved table: output_extracted/Pure Storage, Inc. - Pure Storage Announces Fiscal Fourth Quarter and Full Year 2024 Financial Results_page3_table0.md\n",
      "✅ Saved table: output_extracted/Pure Storage, Inc. - Pure Storage Announces Fiscal Fourth Quarter and Full Year 2024 Financial Results_page3_table2.md\n",
      "✅ Saved table: output_extracted/Pure Storage, Inc. - Pure Storage Announces Fiscal Fourth Quarter and Full Year 2024 Financial Results_page4_table0.md\n",
      "✅ Saved table: output_extracted/Pure Storage, Inc. - Pure Storage Announces Fiscal Fourth Quarter and Full Year 2024 Financial Results_page5_table0.md\n",
      "✅ Saved table: output_extracted/Pure Storage, Inc. - Pure Storage Announces Fiscal Fourth Quarter and Full Year 2024 Financial Results_page6_table0.md\n",
      "✅ Saved table: output_extracted/Pure Storage, Inc. - Pure Storage Announces Fiscal Fourth Quarter and Full Year 2024 Financial Results_page7_table0.md\n",
      "✅ Saved table: output_extracted/Pure Storage, Inc. - Pure Storage Announces Fiscal Fourth Quarter and Full Year 2024 Financial Results_page8_table0.md\n",
      "✅ Saved table: output_extracted/Pure Storage, Inc. - Pure Storage Announces Fiscal Fourth Quarter and Full Year 2024 Financial Results_page9_table0.md\n",
      "✅ Saved table: output_extracted/Pure Storage, Inc. - Pure Storage Announces Fiscal Fourth Quarter and Full Year 2024 Financial Results_page10_table0.md\n",
      "✅ Saved table: output_extracted/Pure Storage, Inc. - Pure Storage Announces Fiscal Fourth Quarter and Full Year 2024 Financial Results_page11_table0.md\n",
      "✅ Saved table: output_extracted/Pure Storage, Inc. - Pure Storage Announces Fiscal Fourth Quarter and Full Year 2024 Financial Results_page12_table0.md\n",
      "✅ Saved table: output_extracted/Pure Storage, Inc. - Pure Storage Announces Fiscal Fourth Quarter and Full Year 2024 Financial Results_page13_table0.md\n",
      "✅ Saved table: output_extracted/Pure Storage, Inc. - Pure Storage Announces Fiscal Fourth Quarter and Full Year 2024 Financial Results_page14_table0.md\n",
      "✅ Saved table: output_extracted/Pure Storage, Inc. - Pure Storage Announces Fiscal Fourth Quarter and Full Year 2024 Financial Results_page15_table0.md\n",
      "✅ Saved table: output_extracted/Pure Storage, Inc. - Pure Storage Announces Fiscal Fourth Quarter and Full Year 2024 Financial Results_page15_table1.md\n",
      "\n",
      "📂 Processing Pure Storage, Inc. - Pure Storage Announces Fiscal Fourth Quarter and Full Year 2023 Financial Results.pdf ...\n"
     ]
    },
    {
     "name": "stderr",
     "output_type": "stream",
     "text": [
      "Could get FontBBox from font descriptor because None cannot be parsed as 4 floats\n",
      "Could get FontBBox from font descriptor because None cannot be parsed as 4 floats\n",
      "Could get FontBBox from font descriptor because None cannot be parsed as 4 floats\n",
      "Could get FontBBox from font descriptor because None cannot be parsed as 4 floats\n",
      "Could get FontBBox from font descriptor because None cannot be parsed as 4 floats\n",
      "Could get FontBBox from font descriptor because None cannot be parsed as 4 floats\n",
      "Could get FontBBox from font descriptor because None cannot be parsed as 4 floats\n"
     ]
    },
    {
     "name": "stdout",
     "output_type": "stream",
     "text": [
      "✅ Saved text: output_extracted/Pure Storage, Inc. - Pure Storage Announces Fiscal Fourth Quarter and Full Year 2023 Financial Results.txt\n",
      "✅ Saved table: output_extracted/Pure Storage, Inc. - Pure Storage Announces Fiscal Fourth Quarter and Full Year 2023 Financial Results_page1_table0.md\n",
      "✅ Saved table: output_extracted/Pure Storage, Inc. - Pure Storage Announces Fiscal Fourth Quarter and Full Year 2023 Financial Results_page2_table0.md\n",
      "✅ Saved table: output_extracted/Pure Storage, Inc. - Pure Storage Announces Fiscal Fourth Quarter and Full Year 2023 Financial Results_page3_table0.md\n",
      "✅ Saved table: output_extracted/Pure Storage, Inc. - Pure Storage Announces Fiscal Fourth Quarter and Full Year 2023 Financial Results_page3_table2.md\n",
      "✅ Saved table: output_extracted/Pure Storage, Inc. - Pure Storage Announces Fiscal Fourth Quarter and Full Year 2023 Financial Results_page4_table0.md\n",
      "✅ Saved table: output_extracted/Pure Storage, Inc. - Pure Storage Announces Fiscal Fourth Quarter and Full Year 2023 Financial Results_page5_table0.md\n",
      "✅ Saved table: output_extracted/Pure Storage, Inc. - Pure Storage Announces Fiscal Fourth Quarter and Full Year 2023 Financial Results_page6_table0.md\n",
      "✅ Saved table: output_extracted/Pure Storage, Inc. - Pure Storage Announces Fiscal Fourth Quarter and Full Year 2023 Financial Results_page7_table0.md\n",
      "✅ Saved table: output_extracted/Pure Storage, Inc. - Pure Storage Announces Fiscal Fourth Quarter and Full Year 2023 Financial Results_page8_table0.md\n",
      "✅ Saved table: output_extracted/Pure Storage, Inc. - Pure Storage Announces Fiscal Fourth Quarter and Full Year 2023 Financial Results_page9_table0.md\n",
      "✅ Saved table: output_extracted/Pure Storage, Inc. - Pure Storage Announces Fiscal Fourth Quarter and Full Year 2023 Financial Results_page9_table1.md\n",
      "✅ Saved table: output_extracted/Pure Storage, Inc. - Pure Storage Announces Fiscal Fourth Quarter and Full Year 2023 Financial Results_page10_table0.md\n",
      "✅ Saved table: output_extracted/Pure Storage, Inc. - Pure Storage Announces Fiscal Fourth Quarter and Full Year 2023 Financial Results_page11_table0.md\n",
      "✅ Saved table: output_extracted/Pure Storage, Inc. - Pure Storage Announces Fiscal Fourth Quarter and Full Year 2023 Financial Results_page12_table0.md\n",
      "✅ Saved table: output_extracted/Pure Storage, Inc. - Pure Storage Announces Fiscal Fourth Quarter and Full Year 2023 Financial Results_page13_table0.md\n",
      "✅ Saved table: output_extracted/Pure Storage, Inc. - Pure Storage Announces Fiscal Fourth Quarter and Full Year 2023 Financial Results_page13_table1.md\n",
      "✅ Saved table: output_extracted/Pure Storage, Inc. - Pure Storage Announces Fiscal Fourth Quarter and Full Year 2023 Financial Results_page13_table2.md\n",
      "✅ Saved table: output_extracted/Pure Storage, Inc. - Pure Storage Announces Fiscal Fourth Quarter and Full Year 2023 Financial Results_page14_table0.md\n"
     ]
    }
   ],
   "source": [
    "import os\n",
    "import pdfplumber\n",
    "import pandas as pd\n",
    "import re\n",
    "import uuid\n",
    "from typing import List, Dict\n",
    "from langchain_core.documents import Document\n",
    "from langchain.text_splitter import RecursiveCharacterTextSplitter\n",
    "\n",
    "DATA_FOLDER = \"/Users/saurabhjain/Desktop/RAG/Data\"\n",
    "OUTPUT_FOLDER = \"output_extracted\"\n",
    "os.makedirs(OUTPUT_FOLDER, exist_ok=True)\n",
    "\n",
    "# -----------------------------\n",
    "# Clean text function\n",
    "# -----------------------------\n",
    "def clean_text(text):\n",
    "    text = re.sub(r\"https?://\\S+\", \" \", text)       # remove links\n",
    "    text = re.sub(r\"Page \\d+ of \\d+\", \" \", text)    # remove page numbers\n",
    "    text = re.sub(r\"\\s+\", \" \", text)                # normalize whitespace\n",
    "    text = \" \".join(text.split())                   # Remove excessive whitespace\n",
    "    text = text.replace(\"ﬁ\", \"fi\")                  # Fix ligatures\n",
    "    text = text.replace(\"ﬂ\", \"fl\")\n",
    "    return text.strip()\n",
    "\n",
    "# -----------------------------\n",
    "# Extract text & tables\n",
    "# -----------------------------\n",
    "def extract_from_pdf(pdf_path, filename):\n",
    "    all_text = []\n",
    "    all_tables = []\n",
    "\n",
    "    with pdfplumber.open(pdf_path) as pdf:\n",
    "        for page_num, page in enumerate(pdf.pages, start=1):\n",
    "            # Extract text\n",
    "            text = page.extract_text() or \"\"\n",
    "            if text.strip():\n",
    "                all_text.append(text)\n",
    "\n",
    "            # Extract tables\n",
    "            tables = page.extract_tables()\n",
    "            for idx, table in enumerate(tables):\n",
    "                if table and len(table) > 1:  # skip empty\n",
    "                    df = pd.DataFrame(table[1:], columns=table[0])\n",
    "                    all_tables.append((page_num, idx, df))\n",
    "\n",
    "    # Save cleaned text\n",
    "    cleaned_text = clean_text(\"\\n\".join(all_text))\n",
    "    txt_path = os.path.join(OUTPUT_FOLDER, f\"{filename}.txt\")\n",
    "    with open(txt_path, \"w\") as f:\n",
    "        f.write(cleaned_text)\n",
    "    print(f\"✅ Saved text: {txt_path}\")\n",
    "\n",
    "    # Save tables as Markdown\n",
    "    for page_num, idx, df in all_tables:\n",
    "        md_content = df.to_markdown(index=False)\n",
    "        md_filename = f\"{filename}_page{page_num}_table{idx}.md\"\n",
    "        md_path = os.path.join(OUTPUT_FOLDER, md_filename)\n",
    "        with open(md_path, \"w\") as f:\n",
    "            f.write(f\"# Table from {filename} (Page {page_num}, Table {idx})\\n\\n\")\n",
    "            f.write(md_content)\n",
    "        print(f\"✅ Saved table: {md_path}\")\n",
    "\n",
    "# -----------------------------\n",
    "# MAIN\n",
    "# -----------------------------\n",
    "if __name__ == \"__main__\":\n",
    "    for file in os.listdir(DATA_FOLDER):\n",
    "        if file.endswith(\".pdf\"):\n",
    "            pdf_path = os.path.join(DATA_FOLDER, file)\n",
    "            filename = os.path.splitext(file)[0]\n",
    "            print(f\"\\n📂 Processing {file} ...\")\n",
    "            extract_from_pdf(pdf_path, filename)\n"
   ]
  },
  {
   "cell_type": "code",
   "execution_count": 3,
   "id": "74577096",
   "metadata": {},
   "outputs": [
    {
     "name": "stdout",
     "output_type": "stream",
     "text": [
      "✅ Segmented report saved: segmented_reports/Pure Storage, Inc. - Pure Storage Announces Fiscal Fourth Quarter and Full Year 2024 Financial Results_segmented.md\n",
      "✅ Segmented report saved: segmented_reports/Pure Storage, Inc. - Pure Storage Announces Fiscal Fourth Quarter and Full Year 2023 Financial Results_segmented.md\n"
     ]
    }
   ],
   "source": [
    "\n",
    "OUTPUT_FOLDER = \"output_extracted\"\n",
    "SEGMENTED_FOLDER = \"segmented_reports\"\n",
    "os.makedirs(SEGMENTED_FOLDER, exist_ok=True)\n",
    "\n",
    "# -----------------------------\n",
    "# Section Segmentation\n",
    "# -----------------------------\n",
    "def segment_sections(text):\n",
    "    sections = {}\n",
    "    \n",
    "    # Define regex patterns for key sections\n",
    "    patterns = {\n",
    "        \"financial_highlights\": r\"(Fourth Quarter and Full Year Financial Highlights.*?)(?=(Company Highlights|Guidance|$))\",\n",
    "        \"company_highlights\": r\"(Fourth Quarter and Full Year Company Highlights.*?)(?=(Guidance|About|$))\",\n",
    "        \"guidance\": r\"(FY\\d{2} Guidance.*?)(?=(Share Repurchase|Conference Call|$))\",\n",
    "        \"share_repurchases\": r\"(Share Repurchase Authorization.*?)(?=(Conference Call|About|$))\",\n",
    "        \"about_company\": r\"(About Pure Storage.*?)(?=(Analyst Recognition|Connect|$))\",\n",
    "        \"analyst_recognition\": r\"(Analyst Recognition.*?)(?=(Connect|$))\"\n",
    "    }\n",
    "\n",
    "    for section, pattern in patterns.items():\n",
    "        match = re.search(pattern, text, flags=re.I | re.S)\n",
    "        if match:\n",
    "            sections[section] = match.group(1).strip()\n",
    "\n",
    "    return sections\n",
    "\n",
    "\n",
    "# -----------------------------\n",
    "# MAIN: Segment text files\n",
    "# -----------------------------\n",
    "if __name__ == \"__main__\":\n",
    "    for file in os.listdir(OUTPUT_FOLDER):\n",
    "        if file.endswith(\".txt\"):\n",
    "            file_path = os.path.join(OUTPUT_FOLDER, file)\n",
    "            with open(file_path, \"r\") as f:\n",
    "                text = f.read()\n",
    "\n",
    "            sections = segment_sections(text)\n",
    "            seg_file = os.path.join(SEGMENTED_FOLDER, f\"{os.path.splitext(file)[0]}_segmented.md\")\n",
    "\n",
    "            with open(seg_file, \"w\") as f:\n",
    "                f.write(f\"# Segmented Report: {file}\\n\\n\")\n",
    "                for sec, content in sections.items():\n",
    "                    f.write(f\"## {sec.replace('_',' ').title()}\\n\\n{content}\\n\\n\")\n",
    "\n",
    "            print(f\"✅ Segmented report saved: {seg_file}\")\n"
   ]
  },
  {
   "cell_type": "code",
   "execution_count": null,
   "id": "e61466d5",
   "metadata": {},
   "outputs": [
    {
     "name": "stdout",
     "output_type": "stream",
     "text": [
      "Loaded 39 raw documents\n",
      "✅ Created 6854 chunks (100 chars)\n",
      "✅ Created 1293 chunks (400 chars)\n",
      "\n",
      "Sample Chunk Metadata: {'source_file': 'Pure Storage, Inc. - Pure Storage Announces Fiscal Fourth Quarter and Full Year 2023 Financial Results_page5_table0.md', 'folder': 'output_extracted', 'chunk_id': 'f60fd2dd-9fdc-4d64-993f-f5e7f35ab0b0', 'chunk_index': 0, 'chunk_size': 100, 'parent_source': 'Pure Storage, Inc. - Pure Storage Announces Fiscal Fourth Quarter and Full Year 2023 Financial Results_page5_table0.md'}\n",
      "Sample Chunk Text:\n",
      " # Table from Pure Storage, Inc. - Pure Storage Announces Fiscal Fourth Quarter and Full Year 2023\n"
     ]
    }
   ],
   "source": []
  }
 ],
 "metadata": {
  "kernelspec": {
   "display_name": ".venv",
   "language": "python",
   "name": "python3"
  },
  "language_info": {
   "codemirror_mode": {
    "name": "ipython",
    "version": 3
   },
   "file_extension": ".py",
   "mimetype": "text/x-python",
   "name": "python",
   "nbconvert_exporter": "python",
   "pygments_lexer": "ipython3",
   "version": "3.13.7"
  }
 },
 "nbformat": 4,
 "nbformat_minor": 5
}
