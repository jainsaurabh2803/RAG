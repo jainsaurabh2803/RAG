{
 "cells": [
  {
   "cell_type": "code",
   "execution_count": 1,
   "id": "ec37be44",
   "metadata": {},
   "outputs": [
    {
     "name": "stderr",
     "output_type": "stream",
     "text": [
      "/Users/saurabhjain/Desktop/RAG/.venv/lib/python3.13/site-packages/tqdm/auto.py:21: TqdmWarning: IProgress not found. Please update jupyter and ipywidgets. See https://ipywidgets.readthedocs.io/en/stable/user_install.html\n",
      "  from .autonotebook import tqdm as notebook_tqdm\n"
     ]
    }
   ],
   "source": [
    "import os\n",
    "import re\n",
    "import uuid\n",
    "from typing import List, Dict\n",
    "from langchain_core.documents import Document\n",
    "from langchain.text_splitter import RecursiveCharacterTextSplitter\n",
    "from sentence_transformers import SentenceTransformer\n",
    "from sklearn.feature_extraction.text import TfidfVectorizer\n",
    "from langchain_huggingface import HuggingFaceEmbeddings\n",
    "from rank_bm25 import BM25Okapi\n",
    "import numpy as np\n",
    "import faiss\n",
    "import pickle"
   ]
  },
  {
   "cell_type": "code",
   "execution_count": 2,
   "id": "0f978936",
   "metadata": {},
   "outputs": [],
   "source": [
    "DATA_FOLDERS = [\"/Users/saurabhjain/Desktop/RAG/PDF_parser/output_extracted\", \"/Users/saurabhjain/Desktop/RAG/PDF_parser/segmented_reports\"]\n",
    "\n",
    "# -----------------------------\n",
    "# Load all text & md into Documents\n",
    "# -----------------------------\n",
    "def load_documents(folders: List[str]) -> List[Document]:\n",
    "    docs = []\n",
    "    for folder in folders:\n",
    "        for file in os.listdir(folder):\n",
    "            if file.endswith(\".txt\") or file.endswith(\".md\"):\n",
    "                file_path = os.path.join(folder, file)\n",
    "                with open(file_path, \"r\", encoding=\"utf-8\") as f:\n",
    "                    content = f.read()\n",
    "                doc = Document(\n",
    "                    page_content=content,\n",
    "                    metadata={\"source_file\": file, \"folder\": folder}\n",
    "                )\n",
    "                docs.append(doc)\n",
    "    return docs\n",
    "\n",
    "# -----------------------------\n",
    "# Chunk documents\n",
    "# -----------------------------\n",
    "def chunk_documents(docs: List[Document], chunk_size: int, chunk_overlap: int = 50) -> List[Document]:\n",
    "    splitter = RecursiveCharacterTextSplitter(\n",
    "        chunk_size=chunk_size,\n",
    "        chunk_overlap=chunk_overlap,\n",
    "        length_function=len  # by default counts characters, can swap with token counter\n",
    "    )\n",
    "    chunks = []\n",
    "    for doc in docs:\n",
    "        split_docs = splitter.split_documents([doc])\n",
    "        for i, chunk in enumerate(split_docs):\n",
    "            # assign unique ID\n",
    "            chunk.metadata.update({\n",
    "                \"chunk_id\": str(uuid.uuid4()),\n",
    "                \"chunk_index\": i,\n",
    "                \"chunk_size\": chunk_size,\n",
    "                \"parent_source\": doc.metadata[\"source_file\"],\n",
    "                \"folder\": doc.metadata[\"folder\"]\n",
    "            })\n",
    "            chunks.append(chunk)\n",
    "    return chunks\n",
    "\n"
   ]
  },
  {
   "cell_type": "code",
   "execution_count": 3,
   "id": "32dbe390",
   "metadata": {},
   "outputs": [],
   "source": [
    "# -----------------------------\n",
    "# Embeddings: MiniLM\n",
    "# -----------------------------\n",
    "def embed_documents(docs: List[Document], model_name=\"all-MiniLM-L6-v2\"):\n",
    "    model = SentenceTransformer(model_name)\n",
    "    embeddings = model.encode([doc.page_content for doc in docs], show_progress_bar=True)\n",
    "    return embeddings"
   ]
  },
  {
   "cell_type": "code",
   "execution_count": null,
   "id": "1699a98f",
   "metadata": {},
   "outputs": [
    {
     "data": {
      "text/plain": [
       "HuggingFaceEmbeddings(model_name='sentence-transformers/all-MiniLM-L6-v2', cache_folder=None, model_kwargs={}, encode_kwargs={}, query_encode_kwargs={}, multi_process=False, show_progress=False)"
      ]
     },
     "execution_count": 4,
     "metadata": {},
     "output_type": "execute_result"
    }
   ],
   "source": [
    "### Huggingface And OpenAI Models\n",
    "\n",
    "## Initialize a simple Embedding model(no API Key needed!)\n",
    "embeddings=HuggingFaceEmbeddings(\n",
    "    model_name=\"sentence-transformers/all-MiniLM-L6-v2\"\n",
    ")\n",
    "embeddings\n",
    "\n",
    "\n"
   ]
  },
  {
   "cell_type": "code",
   "execution_count": 5,
   "id": "b491cbfa",
   "metadata": {},
   "outputs": [],
   "source": [
    "# -----------------------------\n",
    "# Build FAISS Index (Dense Vector)\n",
    "# -----------------------------\n",
    "def build_faiss_index(embeddings: np.ndarray, docs: List[Document], faiss_path=\"faiss_index.bin\"):\n",
    "    dim = embeddings.shape[1]\n",
    "    index = faiss.IndexFlatL2(dim)\n",
    "    index.add(np.array(embeddings))\n",
    "    \n",
    "    # Save FAISS + docs\n",
    "    faiss.write_index(index, faiss_path)\n",
    "    with open(faiss_path.replace(\".bin\", \"_docs.pkl\"), \"wb\") as f:\n",
    "        pickle.dump(docs, f)\n",
    "    \n",
    "    print(f\"✅ FAISS index built with {len(docs)} docs\")\n",
    "    return index"
   ]
  },
  {
   "cell_type": "code",
   "execution_count": 6,
   "id": "7539093e",
   "metadata": {},
   "outputs": [],
   "source": [
    "\n",
    "# -----------------------------\n",
    "# Build Sparse Index (TF-IDF + BM25)\n",
    "# -----------------------------\n",
    "def build_sparse_indexes(docs: List[Document], output_prefix=\"sparse_index\"):\n",
    "    texts = [doc.page_content for doc in docs]\n",
    "    \n",
    "    # TF-IDF\n",
    "    tfidf = TfidfVectorizer(stop_words=\"english\")\n",
    "    tfidf_matrix = tfidf.fit_transform(texts)\n",
    "    \n",
    "    with open(f\"{output_prefix}_tfidf.pkl\", \"wb\") as f:\n",
    "        pickle.dump((tfidf, tfidf_matrix, docs), f)\n",
    "    \n",
    "    # BM25\n",
    "    tokenized_texts = [text.split() for text in texts]\n",
    "    bm25 = BM25Okapi(tokenized_texts)\n",
    "    \n",
    "    with open(f\"{output_prefix}_bm25.pkl\", \"wb\") as f:\n",
    "        pickle.dump((bm25, docs), f)\n",
    "    \n",
    "    print(f\"✅ Sparse indexes built: TF-IDF & BM25\")\n",
    "    return tfidf, tfidf_matrix, bm25\n",
    "\n"
   ]
  },
  {
   "cell_type": "code",
   "execution_count": 7,
   "id": "cd30ddaa",
   "metadata": {},
   "outputs": [
    {
     "name": "stdout",
     "output_type": "stream",
     "text": [
      "Loaded 39 raw documents\n",
      "✅ Created 6854 chunks (100 chars)\n",
      "✅ Created 1293 chunks (400 chars)\n",
      "\n",
      "Sample Chunk Metadata: {'source_file': 'Pure Storage, Inc. - Pure Storage Announces Fiscal Fourth Quarter and Full Year 2023 Financial Results_page5_table0.md', 'folder': '/Users/saurabhjain/Desktop/RAG/PDF_parser/output_extracted', 'chunk_id': '1e8a17c1-ce51-4707-ad1d-c17adda6ff99', 'chunk_index': 0, 'chunk_size': 100, 'parent_source': 'Pure Storage, Inc. - Pure Storage Announces Fiscal Fourth Quarter and Full Year 2023 Financial Results_page5_table0.md'}\n",
      "Sample Chunk Text:\n",
      " # Table from Pure Storage, Inc. - Pure Storage Announces Fiscal Fourth Quarter and Full Year 2023\n"
     ]
    }
   ],
   "source": [
    "# -----------------------------\n",
    "# MAIN\n",
    "# -----------------------------\n",
    "if __name__ == \"__main__\":\n",
    "    # Load\n",
    "    docs = load_documents(DATA_FOLDERS)\n",
    "    print(f\"Loaded {len(docs)} raw documents\")\n",
    "\n",
    "    # Create two granularities\n",
    "    chunks_100 = chunk_documents(docs, chunk_size=100)\n",
    "    chunks_400 = chunk_documents(docs, chunk_size=400)\n",
    "\n",
    "    print(f\"✅ Created {len(chunks_100)} chunks (100 chars)\")\n",
    "    print(f\"✅ Created {len(chunks_400)} chunks (400 chars)\")\n",
    "\n",
    "    # Example inspection\n",
    "    sample = chunks_100[0]\n",
    "    print(\"\\nSample Chunk Metadata:\", sample.metadata)\n",
    "    print(\"Sample Chunk Text:\\n\", sample.page_content[:300])\n"
   ]
  },
  {
   "cell_type": "code",
   "execution_count": 10,
   "id": "c9a120ef",
   "metadata": {},
   "outputs": [
    {
     "name": "stdout",
     "output_type": "stream",
     "text": [
      "Loaded 1293 chunks\n"
     ]
    },
    {
     "name": "stderr",
     "output_type": "stream",
     "text": [
      "Batches: 100%|██████████| 41/41 [00:05<00:00,  7.76it/s]\n"
     ]
    },
    {
     "name": "stdout",
     "output_type": "stream",
     "text": [
      "✅ FAISS index built with 1293 docs\n",
      "✅ Sparse indexes built: TF-IDF & BM25\n"
     ]
    }
   ],
   "source": [
    "# -----------------------------\n",
    "# MAIN\n",
    "# -----------------------------\n",
    "if __name__ == \"__main__\":\n",
    "    # Load + chunk\n",
    "    docs = load_documents(DATA_FOLDERS)\n",
    "    chunks_400 = chunk_documents(docs, chunk_size=400)\n",
    "    print(f\"Loaded {len(chunks_400)} chunks\")\n",
    "    all_docs = chunks_400\n",
    "    # Embeddings\n",
    "    embeddings = embed_documents(chunks_400)\n",
    "\n",
    "    # Dense index\n",
    "    index = build_faiss_index(np.array(embeddings), chunks_400, \"faiss_index.bin\")\n",
    "\n",
    "    # Sparse indexes\n",
    "    build_sparse_indexes(chunks_400, \"sparse_index\")\n"
   ]
  },
  {
   "cell_type": "code",
   "execution_count": 15,
   "id": "96484f06",
   "metadata": {},
   "outputs": [
    {
     "name": "stdout",
     "output_type": "stream",
     "text": [
      "\n",
      "🔎 Query: What was Pure Storage’s revenue in FY23?\n",
      "\n",
      "=== Dense (FAISS Semantic Search) ===\n",
      "\n",
      "--- Result 1 (Score=0.4687) ---\n",
      "Metadata: {'source_file': 'Pure Storage, Inc. - Pure Storage Announces Fiscal Fourth Quarter and Full Year 2023 Financial Results.txt', 'folder': '/Users/saurabhjain/Desktop/RAG/PDF_parser/output_extracted', 'chunk_id': '299e5cd6-da33-4033-8215-240c152096e8', 'chunk_index': 64, 'chunk_size': 400, 'parent_source': 'Pure Storage, Inc. - Pure Storage Announces Fiscal Fourth Quarter and Full Year 2023 Financial Results.txt'}\n",
      "Answer:\n",
      " Storage, Inc. - Pure Storage Announces Fiscal Fourth Quarter and Full Year 2023 Financial Results  RESOURCES SUPPORT PARTNERS CONTACT BLOG $ 10,245 (c) 335 (d) 543 (e) INVESTOR HOME NEWS & EVENTS  FINANCIAL INFORMATION  C1O3R,0P6O3RATE(f )GOVERNAN Gross profit -- product $ 1,222,360 68.2 % $ 24,186 $ 1,246 $ 22,630 (c) 1,210 (d) 575 (e) 135 (g) 88 (h) Gross profit -- subscription services $ \n",
      "\n",
      "--- Result 2 (Score=0.5243) ---\n",
      "Metadata: {'source_file': 'Pure Storage, Inc. - Pure Storage Announces Fiscal Fourth Quarter and Full Year 2024 Financial Results_page3_table0.md', 'folder': '/Users/saurabhjain/Desktop/RAG/PDF_parser/output_extracted', 'chunk_id': '536a1a9c-5566-4e28-8da2-aa10c212ee67', 'chunk_index': 8, 'chunk_size': 400, 'parent_source': 'Pure Storage, Inc. - Pure Storage Announces Fiscal Fourth Quarter and Full Year 2024 Financial Results_page3_table0.md'}\n",
      "Answer:\n",
      " |    | and many more.                                                                                 |    |\n",
      "|    | Industry Recognition and Accolades: In FY24, Pure Storage was recognized as a leader           |    |\n",
      "|    | for the tenth consecutive year in the Gartner Magic Quadrant for Primary Storage, and the      |    | \n",
      "\n",
      "--- Result 3 (Score=0.5669) ---\n",
      "Metadata: {'source_file': 'Pure Storage, Inc. - Pure Storage Announces Fiscal Fourth Quarter and Full Year 2024 Financial Results.txt', 'folder': '/Users/saurabhjain/Desktop/RAG/PDF_parser/output_extracted', 'chunk_id': 'ee2bdfa6-dd31-4bd9-a913-c589342283f4', 'chunk_index': 68, 'chunk_size': 400, 'parent_source': 'Pure Storage, Inc. - Pure Storage Announces Fiscal Fourth Quarter and Full Year 2024 Financial Results.txt'}\n",
      "Answer:\n",
      " 73.4 % $ 370,637 68.0 % $ 6,426 $ 377,06 10/15 23/08/2025, 12:37 Pure Storage, Inc. - Pure Storage Announces Fiscal Fourth Quarter and Full Year 2024 Financial Results  RESOURCES SUPPORT PARTNERS CONTACT BLOG $ 6,065 (c) $ 5,652 (c) 276 (d) 159 (d) 985 (e) — — 306 (f) INVESTOR HOME NEWS & EVENTS  FINANCIAL INFORMATION  CORPORATE GOVERNAN — 16 (h) Gross profit -- subscription services $ 236,455 \n",
      "\n",
      "\n",
      "=== Sparse (BM25 Keyword Search) ===\n",
      "\n",
      "--- Result 1 (Score=10.9977) ---\n",
      "Metadata: {'source_file': 'Pure Storage, Inc. - Pure Storage Announces Fiscal Fourth Quarter and Full Year 2024 Financial Results.txt', 'folder': '/Users/saurabhjain/Desktop/RAG/PDF_parser/output_extracted', 'chunk_id': '49457068-72f3-4f80-bed7-930e49f2b3ba', 'chunk_index': 14, 'chunk_size': 400, 'parent_source': 'Pure Storage, Inc. - Pure Storage Announces Fiscal Fourth Quarter and Full Year 2024 Financial Results.txt'}\n",
      "Answer:\n",
      " gaming, manufacturing, and many more. Industry Recognition and Accolades: In FY24, Pure Storage was recognized as a leader for the tenth consecutive year in the Gartner Magic Quadrant for Primary Storage, and the third consecutive year in the Gartner Magic Quadrant for Distributed File Systems and Object Storage. Additionally, Pure Storage was named a leader in the inaugural IDC MarketSpace: \n",
      "\n",
      "--- Result 2 (Score=10.9031) ---\n",
      "Metadata: {'source_file': 'Pure Storage, Inc. - Pure Storage Announces Fiscal Fourth Quarter and Full Year 2023 Financial Results_page3_table0.md', 'folder': '/Users/saurabhjain/Desktop/RAG/PDF_parser/output_extracted', 'chunk_id': 'da685d8e-4301-4797-813f-f112b3fa80a9', 'chunk_index': 7, 'chunk_size': 400, 'parent_source': 'Pure Storage, Inc. - Pure Storage Announces Fiscal Fourth Quarter and Full Year 2023 Financial Results_page3_table0.md'}\n",
      "Answer:\n",
      " |    | Industry Recognition: Pure was named a leader in the Gartner Magic Quadrants for both               |    |\n",
      "|    | Primary Storage and Distributed File Systems & Object Storage, marking its 9th consecutive          |    |\n",
      "|    | year as a leader. Pure was also named one of Fortune's Best Workplaces in Technology.               |    | \n",
      "\n",
      "--- Result 3 (Score=10.1458) ---\n",
      "Metadata: {'source_file': 'Pure Storage, Inc. - Pure Storage Announces Fiscal Fourth Quarter and Full Year 2023 Financial Results.txt', 'folder': '/Users/saurabhjain/Desktop/RAG/PDF_parser/output_extracted', 'chunk_id': '4efa5930-c037-4c64-8fab-9492abab33b3', 'chunk_index': 13, 'chunk_size': 400, 'parent_source': 'Pure Storage, Inc. - Pure Storage Announces Fiscal Fourth Quarter and Full Year 2023 Financial Results.txt'}\n",
      "Answer:\n",
      " SLA guarantee for Evergreen//One. Industry Recognition: Pure was named a leader in the Gartner Magic Quadrants for both Primary Storage and Distributed File Systems & Object Storage, marking its 9th consecutive year as a leader. Pure was also named one of Fortune's Best Workplaces in Technology. FY24 Guidance FY24 Revenue Mid to High Single Digit Y/Y Growth Non-GAAP Operating Margin 15 % Q1FY24 \n",
      "\n"
     ]
    }
   ],
   "source": [
    "from sentence_transformers import SentenceTransformer\n",
    "import numpy as np\n",
    "import pickle\n",
    "\n",
    "def compare_dense_sparse(query, index, docs, bm25, k=3, model_name=\"all-MiniLM-L6-v2\"):\n",
    "    model = SentenceTransformer(model_name)\n",
    "    query_emb = model.encode([query])\n",
    "    \n",
    "    # Dense (FAISS)\n",
    "    D, I = index.search(np.array(query_emb), k=k)\n",
    "    \n",
    "    # Sparse (BM25)\n",
    "    scores = bm25.get_scores(query.split())\n",
    "    top_n = np.argsort(scores)[::-1][:k]\n",
    "    \n",
    "    print(f\"\\n🔎 Query: {query}\\n\")\n",
    "    print(\"=== Dense (FAISS Semantic Search) ===\\n\")\n",
    "    for rank, idx in enumerate(I[0], start=1):\n",
    "        print(f\"--- Result {rank} (Score={D[0][rank-1]:.4f}) ---\")\n",
    "        print(\"Metadata:\", docs[idx].metadata)\n",
    "        print(\"Answer:\\n\", docs[idx].page_content[:400], \"\\n\")\n",
    "    \n",
    "    print(\"\\n=== Sparse (BM25 Keyword Search) ===\\n\")\n",
    "    for rank, idx in enumerate(top_n, start=1):\n",
    "        print(f\"--- Result {rank} (Score={scores[idx]:.4f}) ---\")\n",
    "        print(\"Metadata:\", docs[idx].metadata)\n",
    "        print(\"Answer:\\n\", docs[idx].page_content[:400], \"\\n\")\n",
    "\n",
    "\n",
    "# Example Usage (after reloading FAISS + BM25)\n",
    "# reload BM25\n",
    "with open(\"sparse_index_bm25.pkl\", \"rb\") as f:\n",
    "    bm25, bm25_docs = pickle.load(f)\n",
    "\n",
    "query = \"What was Pure Storage’s revenue in FY23?\"\n",
    "compare_dense_sparse(query, index, all_docs, bm25, k=3)\n"
   ]
  },
  {
   "cell_type": "code",
   "execution_count": 18,
   "id": "2cf298e9",
   "metadata": {},
   "outputs": [
    {
     "name": "stdout",
     "output_type": "stream",
     "text": [
      "\n",
      "🔎 Hybrid Search Results for Query: What was Pure Storage’s revenue in FY23?\n",
      "\n",
      "--- Result 1 (Score=0.9458) ---\n",
      "Metadata: {'source_file': 'Pure Storage, Inc. - Pure Storage Announces Fiscal Fourth Quarter and Full Year 2024 Financial Results.txt', 'folder': '/Users/saurabhjain/Desktop/RAG/PDF_parser/output_extracted', 'chunk_id': '49457068-72f3-4f80-bed7-930e49f2b3ba', 'chunk_index': 14, 'chunk_size': 400, 'parent_source': 'Pure Storage, Inc. - Pure Storage Announces Fiscal Fourth Quarter and Full Year 2024 Financial Results.txt'}\n",
      "Answer:\n",
      " gaming, manufacturing, and many more. Industry Recognition and Accolades: In FY24, Pure Storage was recognized as a leader for the tenth consecutive year in the Gartner Magic Quadrant for Primary Storage, and the third consecutive year in the Gartner Magic Quadrant for Distributed File Systems and Object Storage. Additionally, Pure Storage was named a leader in the inaugural IDC MarketSpace: \n",
      "\n",
      "--- Result 2 (Score=0.8483) ---\n",
      "Metadata: {'source_file': 'Pure Storage, Inc. - Pure Storage Announces Fiscal Fourth Quarter and Full Year 2024 Financial Results_page3_table0.md', 'folder': '/Users/saurabhjain/Desktop/RAG/PDF_parser/output_extracted', 'chunk_id': '536a1a9c-5566-4e28-8da2-aa10c212ee67', 'chunk_index': 8, 'chunk_size': 400, 'parent_source': 'Pure Storage, Inc. - Pure Storage Announces Fiscal Fourth Quarter and Full Year 2024 Financial Results_page3_table0.md'}\n",
      "Answer:\n",
      " |    | and many more.                                                                                 |    |\n",
      "|    | Industry Recognition and Accolades: In FY24, Pure Storage was recognized as a leader           |    |\n",
      "|    | for the tenth consecutive year in the Gartner Magic Quadrant for Primary Storage, and the      |    | \n",
      "\n",
      "--- Result 3 (Score=0.8426) ---\n",
      "Metadata: {'source_file': 'Pure Storage, Inc. - Pure Storage Announces Fiscal Fourth Quarter and Full Year 2023 Financial Results_page3_table0.md', 'folder': '/Users/saurabhjain/Desktop/RAG/PDF_parser/output_extracted', 'chunk_id': 'da685d8e-4301-4797-813f-f112b3fa80a9', 'chunk_index': 7, 'chunk_size': 400, 'parent_source': 'Pure Storage, Inc. - Pure Storage Announces Fiscal Fourth Quarter and Full Year 2023 Financial Results_page3_table0.md'}\n",
      "Answer:\n",
      " |    | Industry Recognition: Pure was named a leader in the Gartner Magic Quadrants for both               |    |\n",
      "|    | Primary Storage and Distributed File Systems & Object Storage, marking its 9th consecutive          |    |\n",
      "|    | year as a leader. Pure was also named one of Fortune's Best Workplaces in Technology.               |    | \n",
      "\n"
     ]
    }
   ],
   "source": [
    "import numpy as np\n",
    "from sentence_transformers import SentenceTransformer\n",
    "\n",
    "def hybrid_search(query, index, dense_docs, bm25, sparse_docs, k=5, alpha=0.5, model_name=\"all-MiniLM-L6-v2\"):\n",
    "    \"\"\"\n",
    "    Hybrid retrieval: weighted combination of FAISS (dense) + BM25 (sparse)\n",
    "    alpha = weight for dense scores (0.0 = pure BM25, 1.0 = pure FAISS)\n",
    "    \"\"\"\n",
    "    model = SentenceTransformer(model_name)\n",
    "    query_emb = model.encode([query])\n",
    "\n",
    "    # Dense search (FAISS)\n",
    "    D, I = index.search(np.array(query_emb), k=len(dense_docs))\n",
    "    dense_scores = np.zeros(len(dense_docs))\n",
    "    dense_scores[I[0]] = 1 / (1 + D[0])  # convert distance to similarity\n",
    "\n",
    "    # Sparse search (BM25)\n",
    "    sparse_scores = np.array(bm25.get_scores(query.split()))\n",
    "\n",
    "    # Normalize both to [0,1]\n",
    "    if dense_scores.max() > 0:\n",
    "        dense_scores = dense_scores / dense_scores.max()\n",
    "    if sparse_scores.max() > 0:\n",
    "        sparse_scores = sparse_scores / sparse_scores.max()\n",
    "\n",
    "    # Hybrid score\n",
    "    hybrid_scores = alpha * dense_scores + (1 - alpha) * sparse_scores\n",
    "\n",
    "    # Get top-k\n",
    "    top_idx = np.argsort(hybrid_scores)[::-1][:k]\n",
    "\n",
    "    print(f\"\\n🔎 Hybrid Search Results for Query: {query}\\n\")\n",
    "    for rank, idx in enumerate(top_idx, start=1):\n",
    "        print(f\"--- Result {rank} (Score={hybrid_scores[idx]:.4f}) ---\")\n",
    "        print(\"Metadata:\", dense_docs[idx].metadata)\n",
    "        print(\"Answer:\\n\", dense_docs[idx].page_content[:400], \"\\n\")\n",
    "\n",
    "    return [dense_docs[idx] for idx in top_idx]\n",
    "\n",
    "# Example usage\n",
    "query = \"What was Pure Storage’s revenue in FY23?\"\n",
    "results = hybrid_search(query, index, all_docs, bm25, bm25_docs, k=3, alpha=0.5)\n"
   ]
  }
 ],
 "metadata": {
  "kernelspec": {
   "display_name": ".venv",
   "language": "python",
   "name": "python3"
  },
  "language_info": {
   "codemirror_mode": {
    "name": "ipython",
    "version": 3
   },
   "file_extension": ".py",
   "mimetype": "text/x-python",
   "name": "python",
   "nbconvert_exporter": "python",
   "pygments_lexer": "ipython3",
   "version": "3.13.7"
  }
 },
 "nbformat": 4,
 "nbformat_minor": 5
}
